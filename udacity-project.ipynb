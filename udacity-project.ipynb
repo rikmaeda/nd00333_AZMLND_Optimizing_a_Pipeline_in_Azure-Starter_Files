{
 "cells": [
  {
   "cell_type": "code",
   "execution_count": null,
   "metadata": {
    "gather": {
     "logged": 1598275788035
    }
   },
   "outputs": [],
   "source": [
    "from azureml.core import Workspace, Experiment\n",
    "\n",
    "ws=Workspace.get(name=\"quick-starts-ws-146480\")\n",
    "exp=Experiment(workspace=ws, name=\"udacity-project\")\n",
    "\n",
    "print('Workspace name: '+ws.name, 'Azure region: '+ws.location, 'Subscription id: '+ws.subscription_id, 'Resource group: '+ws.resource_group, sep = '\\n')\n",
    "\n",
    "run = exp.start_logging()"
   ]
  },
  {
   "cell_type": "code",
   "execution_count": null,
   "metadata": {
    "gather": {
     "logged": 1598275788675
    },
    "jupyter": {
     "outputs_hidden": false,
     "source_hidden": false
    },
    "nteract": {
     "transient": {
      "deleting": false
     }
    }
   },
   "outputs": [],
   "source": [
    "from azureml.core.compute import ComputeTarget, AmlCompute\n",
    "\n",
    "# Create compute cluster\n",
    "from azureml.core.compute_target import ComputeTargetException\n",
    "\n",
    "cluster_name=\"cluster_sd2v2n4\"\n",
    "vm_size=\"Standard_D2_V2\"\n",
    "vm_priority='lowpriority'\n",
    "max_nodes=4\n",
    "min_nodes=1\n",
    "timeout=10\n",
    "output=True\n",
    "\n",
    "try:\n",
    "\tcompute_target=ComputeTarget(workspace=ws, name=cluster_name)\n",
    "except ComputeTargetException:\n",
    "\tcompute_config=AmlCompute.provisioning_configuration(vm_size=vm_size, vm_priority = vm_priority, max_nodes=max_nodes)\n",
    "\tcompute_target=ComputeTarget.create(ws, cluster_name, compute_config)\n",
    "\tcompute_target.wait_for_completion(show_output=output, timeout_in_minutes = timeout, min_node_count = min_node)"
   ]
  },
  {
   "cell_type": "code",
   "execution_count": null,
   "metadata": {
    "gather": {
     "logged": 1598275789986
    },
    "jupyter": {
     "outputs_hidden": false,
     "source_hidden": false
    },
    "nteract": {
     "transient": {
      "deleting": false
     }
    }
   },
   "outputs": [],
   "source": [
    "from azureml.widgets import RunDetails\n",
    "from azureml.train.sklearn import SKLearn\n",
    "from azureml.train.hyperdrive.run import PrimaryMetricGoal\n",
    "from azureml.train.hyperdrive.policy import BanditPolicy\n",
    "from azureml.train.hyperdrive.sampling import RandomParameterSampling\n",
    "from azureml.train.hyperdrive.runconfig import HyperDriveConfig\n",
    "from azureml.train.hyperdrive.parameter_expressions import uniform\n",
    "import os\n",
    "\n",
    "# Specify parameter sampler\n",
    "params={\"--C\": uniform(0.0, 100.0), \"--max_iter\": choice(10, 20, 30, 40, 50, 60, 70, 80, 90, 100, 110, 120, 130, 140, 150)}\n",
    "ps=RandomParameterSampling(params)\n",
    "\n",
    "# Specify a Policy\n",
    "policy=BanditPolicy(slack_factor=0.5, evaluation_interval=1, delay_evaluation=2)\n",
    "\n",
    "os.mkdir(\"./training\") if \"training\" not in os.listdir()\n",
    "    \n",
    "# Create a SKLearn estimator for use with train.py\n",
    "est=SKLearn(source_directory=\"./training\", compute_target=compute_target, entry_script=\"train.py\")\n",
    "\n",
    "# Create a HyperDriveConfig using the estimator, hyperparameter sampler, and policy.\n",
    "hyperdrive_config=HyperDriveConfig(hyperparameter_sampling=ps, estimator=est, policy=policy, primary_metric_name=\"Accuracy\", primary_metric_goal=PrimaryMetricGoal.MAXIMIZE, max_concurrent_runs=4, max_total_runs=5*len(params))\t "
   ]
  },
  {
   "cell_type": "code",
   "execution_count": null,
   "metadata": {},
   "outputs": [],
   "source": [
    "# Submit your hyperdrive run to the experiment and show run details with the widget.\n",
    "hyperdrive_run=exp.submit(hyperdrive_config, show_output=True)\n",
    "RunDetails(hyperdrive_run).show()"
   ]
  },
  {
   "cell_type": "code",
   "execution_count": null,
   "metadata": {
    "gather": {
     "logged": 1598276310862
    },
    "jupyter": {
     "outputs_hidden": false,
     "source_hidden": false
    },
    "nteract": {
     "transient": {
      "deleting": false
     }
    }
   },
   "outputs": [],
   "source": [
    "import joblib\n",
    "# Get your best run and save the model from that run.\n",
    "best_run=hyperdrive_run.get_best_run_by_primary_metric()\n",
    "best_model=best_run.register_model(model_name=\"best_model\" , model_path=\"./\")\n",
    "best_run\n",
    "best_run_metrics=best_run.get_metrics()\n",
    "best_run_details=best_run.get_details()\n",
    "print(\"Best run: \", best_run.id)\n",
    "print(\"Acurracy: \", best_run_metrics[\"Accuracy\"])\n",
    "print(\"Arguments: \", best_run_details[\"runDefinition\"][\"arguments\"])"
   ]
  },
  {
   "cell_type": "code",
   "execution_count": null,
   "metadata": {},
   "outputs": [],
   "source": [
    "from azureml.data.dataset_factory import TabularDatasetFactory\n",
    "\n",
    "# Create TabularDataset using TabularDatasetFactory\n",
    "ds=TabularDatasetFactory.from_delimited_files(\"https://automlsamplenotebookdata.blob.core.windows.net/automl-sample-notebook-data/bankmarketing_train.csv\")"
   ]
  },
  {
   "cell_type": "code",
   "execution_count": null,
   "metadata": {
    "gather": {
     "logged": 1598275726969
    },
    "jupyter": {
     "outputs_hidden": false,
     "source_hidden": false
    },
    "nteract": {
     "transient": {
      "deleting": false
     }
    }
   },
   "outputs": [],
   "source": [
    "from train import clean_data\n",
    "\n",
    "# Use the clean_data function to clean your data.\n",
    "x, y=clean_data(ds)\n",
    "x['label']=y"
   ]
  },
  {
   "cell_type": "code",
   "execution_count": null,
   "metadata": {
    "gather": {
     "logged": 1598275665403
    },
    "jupyter": {
     "outputs_hidden": false,
     "source_hidden": false
    },
    "nteract": {
     "transient": {
      "deleting": false
     }
    }
   },
   "outputs": [],
   "source": [
    "from azureml.train.automl import AutoMLConfig\n",
    "\n",
    "# Set parameters for AutoMLConfig\n",
    "automl_config = AutoMLConfig(experiment_timeout_minutes=30, task='classification', primary_metric='accuracy', training_data=x, label_column_name='label', n_cross_validations=5)"
   ]
  },
  {
   "cell_type": "code",
   "execution_count": 2,
   "metadata": {
    "jupyter": {
     "outputs_hidden": false,
     "source_hidden": false
    },
    "nteract": {
     "transient": {
      "deleting": false
     }
    }
   },
   "outputs": [],
   "source": [
    "# Submit your automl run\n",
    "automl_run = exp.submit(automl_config, show_output=True)\n",
    "RunDetails(hyperdrive_run).show()"
   ]
  },
  {
   "cell_type": "code",
   "execution_count": null,
   "metadata": {},
   "outputs": [],
   "source": [
    "# Retrieve and save your best automl model.\n",
    "automl_best_run, model = automl_run.get_output()\n",
    "automl_best_model = automl_best_run.register_model(model_name=\"automl_best_model\" , model_path=\"./\")\n",
    "automl_best_run\n",
    "automl_best_run_metrics = automl_best_run.get_metrics()\n",
    "automl_best_run_details = automl_best_run.get_details()\n",
    "print(\"Best run: \", automl_best_run.id)\n",
    "print(\"Acurracy: \", automl_best_run_metrics[\"Accuracy\"])\n",
    "print(\"Parameters: \", parameters)"
   ]
  }
 ],
 "metadata": {
  "kernel_info": {
   "name": "python3-azureml"
  },
  "kernelspec": {
   "display_name": "Python 3",
   "language": "python",
   "name": "python3"
  },
  "language_info": {
   "codemirror_mode": {
    "name": "ipython",
    "version": 3
   },
   "file_extension": ".py",
   "mimetype": "text/x-python",
   "name": "python",
   "nbconvert_exporter": "python",
   "pygments_lexer": "ipython3",
   "version": "3.7.4"
  },
  "nteract": {
   "version": "nteract-front-end@1.0.0"
  }
 },
 "nbformat": 4,
 "nbformat_minor": 2
}